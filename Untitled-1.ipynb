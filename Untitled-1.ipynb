{
 "cells": [
  {
   "cell_type": "code",
   "execution_count": 2,
   "metadata": {},
   "outputs": [],
   "source": [
    "import numpy as np"
   ]
  },
  {
   "cell_type": "code",
   "execution_count": 9,
   "metadata": {},
   "outputs": [],
   "source": [
    "a  = np.array([1,2,3,4,5,6,7,8,9,10,11,12]).reshape(1,2,6)\n",
    "b = 2*a\n",
    "c = 3*a\n"
   ]
  },
  {
   "cell_type": "code",
   "execution_count": 10,
   "metadata": {},
   "outputs": [
    {
     "data": {
      "text/plain": [
       "(3, 2, 6)"
      ]
     },
     "execution_count": 10,
     "metadata": {},
     "output_type": "execute_result"
    }
   ],
   "source": [
    "poss = np.concatenate([a,b,c], axis=0)\n",
    "poss.shape"
   ]
  },
  {
   "cell_type": "code",
   "execution_count": 11,
   "metadata": {},
   "outputs": [
    {
     "data": {
      "text/plain": [
       "array([[[ 1,  2,  3,  4,  5,  6],\n",
       "        [ 7,  8,  9, 10, 11, 12]],\n",
       "\n",
       "       [[ 2,  4,  6,  8, 10, 12],\n",
       "        [14, 16, 18, 20, 22, 24]],\n",
       "\n",
       "       [[ 3,  6,  9, 12, 15, 18],\n",
       "        [21, 24, 27, 30, 33, 36]]])"
      ]
     },
     "execution_count": 11,
     "metadata": {},
     "output_type": "execute_result"
    }
   ],
   "source": [
    "poss"
   ]
  },
  {
   "cell_type": "code",
   "execution_count": 12,
   "metadata": {},
   "outputs": [],
   "source": [
    "pos_at_t_obs = poss[:, :, 3] # Get the x and y locations of the last observation time, T_obs\n",
    "\n",
    "# Calculate the mean x and y locations\n",
    "mean_x = np.mean(pos_at_t_obs[:, 0])\n",
    "mean_y = np.mean(pos_at_t_obs[:, 1])\n",
    "mean_position = np.array([mean_x, mean_y])\n",
    "mean_position = np.reshape(mean_position, (1, 2, 1))\n",
    "\n",
    "seg_list_rel = poss - mean_position"
   ]
  },
  {
   "cell_type": "code",
   "execution_count": 13,
   "metadata": {},
   "outputs": [
    {
     "data": {
      "text/plain": [
       "array([[[ -7.,  -6.,  -5.,  -4.,  -3.,  -2.],\n",
       "        [-13., -12., -11., -10.,  -9.,  -8.]],\n",
       "\n",
       "       [[ -6.,  -4.,  -2.,   0.,   2.,   4.],\n",
       "        [ -6.,  -4.,  -2.,   0.,   2.,   4.]],\n",
       "\n",
       "       [[ -5.,  -2.,   1.,   4.,   7.,  10.],\n",
       "        [  1.,   4.,   7.,  10.,  13.,  16.]]])"
      ]
     },
     "execution_count": 13,
     "metadata": {},
     "output_type": "execute_result"
    }
   ],
   "source": [
    "seg_list_rel"
   ]
  },
  {
   "cell_type": "code",
   "execution_count": 18,
   "metadata": {},
   "outputs": [],
   "source": [
    "pos_at_t_obs = seg_list_rel[:, :, 3] # Get the x and y locations of the last observation time, T_obs"
   ]
  },
  {
   "cell_type": "code",
   "execution_count": 19,
   "metadata": {},
   "outputs": [
    {
     "data": {
      "text/plain": [
       "0.0"
      ]
     },
     "execution_count": 19,
     "metadata": {},
     "output_type": "execute_result"
    }
   ],
   "source": [
    "np.mean(pos_at_t_obs[:, 0])"
   ]
  },
  {
   "cell_type": "code",
   "execution_count": null,
   "metadata": {},
   "outputs": [],
   "source": []
  },
  {
   "cell_type": "code",
   "execution_count": null,
   "metadata": {},
   "outputs": [],
   "source": []
  },
  {
   "cell_type": "code",
   "execution_count": 5,
   "metadata": {},
   "outputs": [],
   "source": [
    "from torch_geometric.utils import dense_to_sparse\n",
    "import torch\n",
    "import torch.nn.functional as F\n",
    "\n",
    "max_num_peds = 4\n",
    "\n",
    "\n",
    "adj_matrix = torch.ones(max_num_peds, max_num_peds) - torch.eye(max_num_peds)\n",
    "edge_index, _ = dense_to_sparse(adj_matrix)"
   ]
  },
  {
   "cell_type": "code",
   "execution_count": 13,
   "metadata": {},
   "outputs": [
    {
     "name": "stdout",
     "output_type": "stream",
     "text": [
      "tensor([[1, 2, 3, 0, 0, 0, 0, 0, 0, 0],\n",
      "        [4, 5, 6, 0, 0, 0, 0, 0, 0, 0],\n",
      "        [7, 8, 9, 0, 0, 0, 0, 0, 0, 0]])\n",
      "torch.Size([3, 10])\n"
     ]
    }
   ],
   "source": [
    "import torch\n",
    "import torch.nn.functional as F\n",
    "\n",
    "# Input tensor\n",
    "tensor = torch.tensor([[1, 2, 3], [4, 5, 6], [7, 8, 9]])\n",
    "\n",
    "# Number of zeros to pad\n",
    "num_zeros = 2\n",
    "\n",
    "# Pad zeros on the column dimension\n",
    "padded_tensor = F.pad(tensor, (0, 10-3))\n",
    "\n",
    "# Print the padded tensor\n",
    "print(padded_tensor)\n",
    "print(padded_tensor.shape)"
   ]
  },
  {
   "cell_type": "code",
   "execution_count": null,
   "metadata": {},
   "outputs": [],
   "source": []
  }
 ],
 "metadata": {
  "kernelspec": {
   "display_name": "py_cuda",
   "language": "python",
   "name": "python3"
  },
  "language_info": {
   "codemirror_mode": {
    "name": "ipython",
    "version": 3
   },
   "file_extension": ".py",
   "mimetype": "text/x-python",
   "name": "python",
   "nbconvert_exporter": "python",
   "pygments_lexer": "ipython3",
   "version": "3.9.16"
  },
  "orig_nbformat": 4
 },
 "nbformat": 4,
 "nbformat_minor": 2
}
